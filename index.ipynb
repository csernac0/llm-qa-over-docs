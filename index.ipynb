{
 "cells": [
  {
   "cell_type": "code",
   "execution_count": 1,
   "id": "df485255",
   "metadata": {},
   "outputs": [],
   "source": [
    "from src.load_document import LoadDocument\n",
    "from src.get_embeddings import GetEmbeddings\n",
    "from src.qa_context import QAWithContext"
   ]
  },
  {
   "cell_type": "code",
   "execution_count": 14,
   "id": "5c1c5abb",
   "metadata": {},
   "outputs": [],
   "source": [
    "document_dir = 'data2'"
   ]
  },
  {
   "cell_type": "markdown",
   "id": "266c67e9",
   "metadata": {},
   "source": [
    "## Get document"
   ]
  },
  {
   "cell_type": "code",
   "execution_count": 15,
   "id": "b72ced32",
   "metadata": {},
   "outputs": [],
   "source": [
    "\n",
    "obj_load_doc = LoadDocument(document_dir)\n",
    "lgc_documents = obj_load_doc.get_lgc_documents()"
   ]
  },
  {
   "cell_type": "markdown",
   "id": "787c2f14",
   "metadata": {},
   "source": [
    "## Get embeddings"
   ]
  },
  {
   "cell_type": "code",
   "execution_count": 16,
   "id": "62f15508",
   "metadata": {},
   "outputs": [],
   "source": [
    "obj_embeddings = GetEmbeddings(document_dir)"
   ]
  },
  {
   "cell_type": "code",
   "execution_count": 17,
   "id": "fea7fffd",
   "metadata": {},
   "outputs": [
    {
     "name": "stdout",
     "output_type": "stream",
     "text": [
      "Splitted doc: 121\n",
      "Total word count: 16220\n",
      "Total tokens: 32528\n",
      "Embedding Cost: $0.23 MXN\n"
     ]
    }
   ],
   "source": [
    "chunk_size_limit = 1000\n",
    "max_chunk_overlap = 500\n",
    "splitted_doc = obj_embeddings.calc_estimated_cost(\n",
    "    lgc_documents, chunk_size_limit, max_chunk_overlap\n",
    ")"
   ]
  },
  {
   "cell_type": "code",
   "execution_count": 18,
   "id": "ca784c64",
   "metadata": {},
   "outputs": [
    {
     "data": {
      "text/plain": [
       "Document(page_content=\"CONTRATO MAESTRO NUMERO AP000000718 DE ARRENDAMIENTO DE BIENES\\nMUEBLES (EN LO SUCESIVO DENOMINADO EL “ARRENDAMIENTO MAESTRO”) QUE\\nCELEBRAN POR UNA PARTE AB2C LEASING DE MEXICO, SOCIEDAD ANÓNIMA\\nPROMOTORA DE INVERSIÓN DE CAPITAL VARIABLE. (EL “ARRENDADOR'),\\nREPRESENTADA POR MARÍA ISABEL BOLIO MONTERO Y PABLO ENRIQUE ROMERO\\nGONZÁLEZ , POR OTRA PARTE LA EMPRESA CRANE SUPPLIES SERVICES S.A. de\\nC.V. REPRESENTADA POR ÓSCAR ALBERTO ISLAS MENDOZA (“EL ARRENDATARIO”). POR OTRA PARTE: EN LO PERSONAL Y POR SU PROPIO DERECHO, OSCAR\\nALBERTO ISLAS MENDOZA (COMO “EL OBLIGADO SOLIDARIO”), POR ULTIMO EN LO\\nPERSONAL Y POR SU PROPIO DERECHO OSCAR ALBERTO ISLAS MENDOZA, COMO\\n(EL DEPOSITARIO”) DE ACUERDO CON LAS SIGUIENTES DECLARACIONES Y\\nCLAUSULAS.\\n\\nDECLARACIONES\\nE. El Arrendador declara, representa y garantiza que:\", metadata={'source': '/ocr_text'})"
      ]
     },
     "execution_count": 18,
     "metadata": {},
     "output_type": "execute_result"
    }
   ],
   "source": [
    "splitted_doc[0]"
   ]
  },
  {
   "cell_type": "code",
   "execution_count": 19,
   "id": "33669c5d",
   "metadata": {},
   "outputs": [
    {
     "name": "stdout",
     "output_type": "stream",
     "text": [
      "Vector store already created.\n"
     ]
    }
   ],
   "source": [
    "chunk_size_limit = 1000\n",
    "max_chunk_overlap = 500\n",
    "vector_store_small = obj_embeddings.get_embeddings(\n",
    "    lgc_documents, chunk_size_limit, max_chunk_overlap, \n",
    "    'vector_store_small_chunk'\n",
    ")"
   ]
  },
  {
   "cell_type": "code",
   "execution_count": 20,
   "id": "25be9338",
   "metadata": {},
   "outputs": [
    {
     "name": "stdout",
     "output_type": "stream",
     "text": [
      "Splitted doc: 123\n",
      "Total word count: 20117\n",
      "Total tokens: 40454\n",
      "Embedding Cost: $0.29 MXN\n"
     ]
    }
   ],
   "source": [
    "chunk_size_limit = 1200\n",
    "max_chunk_overlap = 800\n",
    "vector_store_large = obj_embeddings.calc_estimated_cost(\n",
    "    lgc_documents, chunk_size_limit, max_chunk_overlap\n",
    ")"
   ]
  },
  {
   "cell_type": "code",
   "execution_count": 21,
   "id": "0d00c5e3",
   "metadata": {},
   "outputs": [
    {
     "name": "stdout",
     "output_type": "stream",
     "text": [
      "Vector store already created.\n"
     ]
    }
   ],
   "source": [
    "chunk_size_limit = 1200\n",
    "max_chunk_overlap = 800\n",
    "vector_store_large = obj_embeddings.get_embeddings(\n",
    "    lgc_documents, chunk_size_limit, max_chunk_overlap, \n",
    "    'vector_store_large_chunk'\n",
    ")\n"
   ]
  },
  {
   "cell_type": "markdown",
   "id": "643284ca",
   "metadata": {},
   "source": [
    "## Q&A over document"
   ]
  },
  {
   "cell_type": "code",
   "execution_count": 22,
   "id": "1151cce0",
   "metadata": {},
   "outputs": [],
   "source": [
    "obj_qa_context = QAWithContext(document_dir)"
   ]
  },
  {
   "cell_type": "code",
   "execution_count": 30,
   "id": "33b4e24e",
   "metadata": {},
   "outputs": [
    {
     "name": "stdout",
     "output_type": "stream",
     "text": [
      "Min similarity in large chunk embeds: 0.41198683\n",
      "Min similarity in small chunk embeds: 0.41201293\n",
      "Select large chunk embeds\n"
     ]
    },
    {
     "name": "stderr",
     "output_type": "stream",
     "text": [
      "INFO:langchain.retrievers.multi_query:Generated queries: ['1. ¿Cuál es el contenido de esta información?', '2. ¿Qué información se encuentra en esta base de datos?', '3. ¿Qué datos están incluidos en esta fuente de información?']\n"
     ]
    },
    {
     "data": {
      "text/plain": [
       "'La data contiene información relacionada con un contrato de arrendamiento, incluyendo información personal, corporativa y financiera del arrendatario. También se menciona una modificación al objeto social de la empresa y se hacen referencias a medidas de seguridad laborales y ambientales, así como al cumplimiento de disposiciones legales en temas sociales, laborales y de cuidado al medio ambiente. Además, se incluyen definiciones de términos como \"Código Civil\", \"Día Inhábil\", \"Dólar\", \"Pesos\" y \"Fecha de Inicio\". También se menciona a FIRA, que significa Fideicomisos Instituidos en Relación con la Agricultura.'"
      ]
     },
     "execution_count": 30,
     "metadata": {},
     "output_type": "execute_result"
    }
   ],
   "source": [
    "str_query = \"Qué contiene esta data?\"\n",
    "\n",
    "vector_store, n_k_args = obj_qa_context.define_vector_store_to_use(\n",
    "    str_query\n",
    ")\n",
    "\n",
    "result = obj_qa_context.ask_chat_gpt_w_multiq(\n",
    "    str_query, vector_store, n_k_args\n",
    ")\n",
    "\n",
    "result['answer']"
   ]
  },
  {
   "cell_type": "code",
   "execution_count": 33,
   "id": "3f06dfed",
   "metadata": {},
   "outputs": [
    {
     "name": "stdout",
     "output_type": "stream",
     "text": [
      "Min similarity in large chunk embeds: 0.33870715\n",
      "Min similarity in small chunk embeds: 0.35162324\n",
      "Select large chunk embeds\n"
     ]
    },
    {
     "data": {
      "text/markdown": [
       "\n",
       "          ### Question: \n",
       "          Descripción del equipo o maquinaria\n",
       "          ### Answer: \n",
       "          La descripción del equipo o maquinaria es la siguiente:\n",
       "\n",
       "- Marca: Caterpillar\n",
       "- Modelo: 250G\n",
       "- Serie: CCATO950GTAXX02079\n",
       "- Año: 2006\n",
       "- Tipo de equipo: Cargador frontal de accionamiento hidráulico montado sobre ruedas\n",
       "- Estado: Usado\n",
       "- Pedimento número: 22 34 3803 2001554\n",
       "- Ubicación: Ciudad Miguel Alemán, Tamaulipas\n",
       "\n",
       "\n",
       "          ### All relevant sources:\n",
       "          /ocr_text\n",
       "        "
      ],
      "text/plain": [
       "<IPython.core.display.Markdown object>"
      ]
     },
     "metadata": {},
     "output_type": "display_data"
    }
   ],
   "source": [
    "str_query = \"Descripción del equipo o maquinaria\"\n",
    "\n",
    "vector_store, n_k_args = obj_qa_context.define_vector_store_to_use(\n",
    "    str_query\n",
    ")\n",
    "\n",
    "result = obj_qa_context.ask_chat_gpt(\n",
    "    str_query, vector_store, n_k_args\n",
    ")\n",
    "\n",
    "obj_qa_context.print_result(result)"
   ]
  },
  {
   "cell_type": "code",
   "execution_count": 28,
   "id": "1b87ed72",
   "metadata": {},
   "outputs": [
    {
     "name": "stdout",
     "output_type": "stream",
     "text": [
      "Min similarity in large chunk embeds: 0.33870715\n",
      "Min similarity in small chunk embeds: 0.35162324\n",
      "Select large chunk embeds\n"
     ]
    },
    {
     "name": "stderr",
     "output_type": "stream",
     "text": [
      "INFO:langchain.retrievers.multi_query:Generated queries: ['1. ¿Cuál es la descripción del equipo o maquinaria?', '2. ¿Puedes darme información sobre el equipo o maquinaria?', '3. ¿Podrías proporcionar detalles acerca del equipo o maquinaria?']\n"
     ]
    },
    {
     "data": {
      "text/markdown": [
       "\n",
       "          ### Question: \n",
       "          Descripción del equipo o maquinaria\n",
       "          ### Answer: \n",
       "          El equipo o maquinaria descrito en el anexo de arrendamiento es un cargador frontal de accionamiento hidráulico montado sobre ruedas. Es usado y tiene el número de pedimento 22 34 3803 2001554. Es de la marca Caterpillar, modelo 250G, serie CCATO950GTAXX02079 y fue fabricado en el año 2006. \n",
       "Source: /ocr_text\n",
       "          ### All relevant sources:\n",
       "          /ocr_text\n",
       "        "
      ],
      "text/plain": [
       "<IPython.core.display.Markdown object>"
      ]
     },
     "metadata": {},
     "output_type": "display_data"
    }
   ],
   "source": [
    "str_query = \"Descripción del equipo o maquinaria\"\n",
    "\n",
    "vector_store, n_k_args = obj_qa_context.define_vector_store_to_use(\n",
    "    str_query\n",
    ")\n",
    "\n",
    "result = obj_qa_context.ask_chat_gpt_w_multiq(\n",
    "    str_query, vector_store, n_k_args\n",
    ")\n",
    "\n",
    "obj_qa_context.print_result(result)"
   ]
  },
  {
   "cell_type": "code",
   "execution_count": null,
   "id": "5e6b2585",
   "metadata": {},
   "outputs": [],
   "source": []
  }
 ],
 "metadata": {
  "kernelspec": {
   "display_name": "Python 3 (ipykernel)",
   "language": "python",
   "name": "python3"
  },
  "language_info": {
   "codemirror_mode": {
    "name": "ipython",
    "version": 3
   },
   "file_extension": ".py",
   "mimetype": "text/x-python",
   "name": "python",
   "nbconvert_exporter": "python",
   "pygments_lexer": "ipython3",
   "version": "3.9.17"
  },
  "toc": {
   "base_numbering": 1,
   "nav_menu": {},
   "number_sections": true,
   "sideBar": true,
   "skip_h1_title": false,
   "title_cell": "Table of Contents",
   "title_sidebar": "Contents",
   "toc_cell": false,
   "toc_position": {},
   "toc_section_display": true,
   "toc_window_display": false
  }
 },
 "nbformat": 4,
 "nbformat_minor": 5
}
