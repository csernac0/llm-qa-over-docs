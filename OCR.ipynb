{
 "cells": [
  {
   "cell_type": "code",
   "execution_count": 15,
   "id": "5ad6c937",
   "metadata": {},
   "outputs": [],
   "source": [
    "#!pip install pytesseract"
   ]
  },
  {
   "cell_type": "code",
   "execution_count": 31,
   "id": "bf100349",
   "metadata": {},
   "outputs": [],
   "source": [
    "from pdf2image import convert_from_path\n",
    "import pytesseract\n",
    "from PIL import Image\n",
    "#import PyPDF2\n",
    "import pandas as pd\n",
    "import matplotlib.pyplot as plt"
   ]
  },
  {
   "cell_type": "code",
   "execution_count": 2,
   "id": "9b8c4818",
   "metadata": {},
   "outputs": [],
   "source": [
    "# Ruta del archivo PDF\n",
    "archivo_pdf = 'data/CONTRATO_AP000000718.pdf'\n",
    "\n",
    "# Extraer imágenes del PDF\n",
    "def extraer_imagenes_pdf(archivo):\n",
    "    paginas = convert_from_path(archivo)\n",
    "    num_pagina = 1\n",
    "    for pagina in paginas:\n",
    "        imagen_nombre = f'data/pagina{num_pagina}.jpg'\n",
    "        pagina.save(imagen_nombre, 'JPEG')\n",
    "        num_pagina += 1"
   ]
  },
  {
   "cell_type": "code",
   "execution_count": 3,
   "id": "8dcfe9a7",
   "metadata": {},
   "outputs": [],
   "source": [
    "# Extraer texto de las imágenes utilizando OCR\n",
    "def extraer_texto_imagen(imagen):\n",
    "    texto = pytesseract.image_to_string(imagen, lang='spa')\n",
    "    return texto\n"
   ]
  },
  {
   "cell_type": "code",
   "execution_count": 4,
   "id": "2ef66de1",
   "metadata": {},
   "outputs": [],
   "source": [
    "extraer_imagenes_pdf(archivo_pdf)"
   ]
  },
  {
   "cell_type": "code",
   "execution_count": 10,
   "id": "31efa77f",
   "metadata": {},
   "outputs": [],
   "source": [
    "imagen_nombre = f'data/pagina{21}.jpg'\n",
    "imagen = Image.open(imagen_nombre)\n",
    "texto_por_pag = extraer_texto_imagen(imagen)"
   ]
  },
  {
   "cell_type": "code",
   "execution_count": 11,
   "id": "88840357",
   "metadata": {},
   "outputs": [
    {
     "data": {
      "text/plain": [
       "'01 de Marzo de 2023 $91,870,00\\n\\n[lo 7 | 01 de Abril de 2023 59187000 |\\n\\n[sa | 01 de Mayo de 2023\\n\\nA 01 de Junio de 2023\\n)\\n\\n01 de Julio de.2023 $91,870,00\\n\\nlo 42 Í|_01de Septiembre de 202\\nlas |  0tdeoOctubrede2023 |  $91,870.00 |\\n[| 48 | OideNoviembrede2023 [|  $91.870.00 |\\n[o 1s | otdeDíciembrede2023 |  $91,870.00 |\\nlo 16 |  kOtdeEnerode2024  [  $91,870,.00 |\\nlo a7 |  OfdeFebrerode2024. |  $94.87o.00 |\\n[| 18 | O1deMarzode2024 |  $91,870.00 |\\n\\n20\\n\\n21\\naa | oOidéeJuliodezo2a |  $91.870.00 |\\n[oa |  OtdeAgostode2024 |  $91,870.00 |\\n\\nA. PLAZO BASICO:37 MESES\\n\\nRENTA: $3,075,803.25 (TRES MILLONES SETENTA Y CINCO MIL OCHOCIENTOS TRES\\nPESOS 25/100 M.N.)\\n\\nB. CUENTA BANCARIA.\\n\\nBANCO SCOTIABANK INV\\nRO SCO\\n\\n044180001041342479\\nMONEDA: lO Pesos  _ _____]\\n\\n€. FECHA DE INICIO: 29 de septiembre de 2022\\n\\n2/6\\n'"
      ]
     },
     "execution_count": 11,
     "metadata": {},
     "output_type": "execute_result"
    }
   ],
   "source": [
    "texto_por_pag"
   ]
  },
  {
   "cell_type": "code",
   "execution_count": 12,
   "id": "f3841f8d",
   "metadata": {},
   "outputs": [],
   "source": [
    "texto_completo = ''\n",
    "chars_by_page = []\n",
    "num_paginas = len(convert_from_path(archivo_pdf))\n",
    "for num_pagina in range(1, num_paginas + 1):\n",
    "    imagen_nombre = f'data/pagina{num_pagina}.jpg'\n",
    "    imagen = Image.open(imagen_nombre)\n",
    "    texto = extraer_texto_imagen(imagen)\n",
    "    chars_by_page.append([num_pagina, len(texto)])\n",
    "    texto_completo += texto"
   ]
  },
  {
   "cell_type": "code",
   "execution_count": 18,
   "id": "af1fa6f8",
   "metadata": {},
   "outputs": [],
   "source": [
    "df_char_page = pd.DataFrame(chars_by_page)\n",
    "df_char_page.columns = ['page','n_chars']"
   ]
  },
  {
   "cell_type": "code",
   "execution_count": 32,
   "id": "037a004e",
   "metadata": {},
   "outputs": [
    {
     "data": {
      "text/plain": [
       "<Axes: >"
      ]
     },
     "execution_count": 32,
     "metadata": {},
     "output_type": "execute_result"
    },
    {
     "data": {
      "image/png": "[encoded data removed]",
      "text/plain": [
       "<Figure size 640x480 with 1 Axes>"
      ]
     },
     "metadata": {},
     "output_type": "display_data"
    }
   ],
   "source": [
    "df_char_page[['n_chars']].boxplot()"
   ]
  },
  {
   "cell_type": "code",
   "execution_count": null,
   "id": "e7c70482",
   "metadata": {},
   "outputs": [],
   "source": [
    "texto_completo = ''\n",
    "\n",
    "num_paginas = len(convert_from_path(archivo_pdf))\n",
    "for num_pagina in range(1, num_paginas + 1):\n",
    "    imagen_nombre = f'data/pagina{num_pagina}.jpg'\n",
    "    imagen = Image.open(imagen_nombre)\n",
    "    texto = extraer_texto_imagen(imagen)\n",
    "    #threshold_perc = df_char_page.n_chars.describe(\n",
    "    #    [.2]\n",
    "    #)['20%']\n",
    "    if len(texto)>=0:\n",
    "        texto_completo += texto\n",
    "    else:\n",
    "        print(num_pagina, len(texto))"
   ]
  },
  {
   "cell_type": "code",
   "execution_count": null,
   "id": "f95c323a",
   "metadata": {
    "scrolled": true
   },
   "outputs": [],
   "source": [
    "len(texto_completo)"
   ]
  },
  {
   "cell_type": "code",
   "execution_count": null,
   "id": "3aa5a669",
   "metadata": {},
   "outputs": [],
   "source": [
    "with open('data/ocr_text.txt', 'w') as f:\n",
    "    f.write(texto_completo)"
   ]
  },
  {
   "cell_type": "code",
   "execution_count": null,
   "id": "f90f7547",
   "metadata": {},
   "outputs": [],
   "source": []
  }
 ],
 "metadata": {
  "kernelspec": {
   "display_name": "Python 3 (ipykernel)",
   "language": "python",
   "name": "python3"
  },
  "language_info": {
   "codemirror_mode": {
    "name": "ipython",
    "version": 3
   },
   "file_extension": ".py",
   "mimetype": "text/x-python",
   "name": "python",
   "nbconvert_exporter": "python",
   "pygments_lexer": "ipython3",
   "version": "3.9.17"
  },
  "toc": {
   "base_numbering": 1,
   "nav_menu": {},
   "number_sections": true,
   "sideBar": true,
   "skip_h1_title": false,
   "title_cell": "Table of Contents",
   "title_sidebar": "Contents",
   "toc_cell": false,
   "toc_position": {},
   "toc_section_display": true,
   "toc_window_display": false
  }
 },
 "nbformat": 4,
 "nbformat_minor": 5
}
